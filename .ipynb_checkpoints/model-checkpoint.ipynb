{
 "cells": [
  {
   "cell_type": "code",
   "execution_count": 3,
   "metadata": {
    "collapsed": false
   },
   "outputs": [
    {
     "name": "stderr",
     "output_type": "stream",
     "text": [
      "Using TensorFlow backend.\n"
     ]
    }
   ],
   "source": [
    "import keras\n",
    "from keras.models import Model\n",
    "from keras import layers\n",
    "from keras import backend as K\n",
    "from keras.engine.topology import Layer\n",
    "\n",
    "from sklearn.metrics import roc_auc_score\n",
    "import tensorflow as tf\n",
    "import numpy as np"
   ]
  },
  {
   "cell_type": "markdown",
   "metadata": {},
   "source": [
    "## build model"
   ]
  },
  {
   "cell_type": "code",
   "execution_count": 8,
   "metadata": {
    "collapsed": false
   },
   "outputs": [
    {
     "name": "stdout",
     "output_type": "stream",
     "text": [
      "input shape [(None, 10, 1), (None, 1)]\n",
      "input shape [(None, 10, 1), (None, 1)]\n",
      "__________________________________________________________________________________________________\n",
      "Layer (type)                    Output Shape         Param #     Connected to                     \n",
      "==================================================================================================\n",
      "input_i (InputLayer)            (None, 224, 224, 3)  0                                            \n",
      "__________________________________________________________________________________________________\n",
      "input_j (InputLayer)            (None, 224, 224, 3)  0                                            \n",
      "__________________________________________________________________________________________________\n",
      "base_vgg (Model)                (None, 10, 1)        20158282    input_i[0][0]                    \n",
      "                                                                 input_j[0][0]                    \n",
      "__________________________________________________________________________________________________\n",
      "input_user (InputLayer)         (None, 1)            0                                            \n",
      "__________________________________________________________________________________________________\n",
      "theta_layer (ThetaLayer)        (None, 1)            10000       base_vgg[1][0]                   \n",
      "                                                                 input_user[0][0]                 \n",
      "                                                                 base_vgg[2][0]                   \n",
      "                                                                 input_user[0][0]                 \n",
      "__________________________________________________________________________________________________\n",
      "substract (Subtract)            (None, 1)            0           theta_layer[0][0]                \n",
      "                                                                 theta_layer[1][0]                \n",
      "__________________________________________________________________________________________________\n",
      "sigmoid (Activation)            (None, 1)            0           substract[0][0]                  \n",
      "==================================================================================================\n",
      "Total params: 20,168,282\n",
      "Trainable params: 20,168,282\n",
      "Non-trainable params: 0\n",
      "__________________________________________________________________________________________________\n",
      "__________________________________________________________________________________________________\n",
      "Layer (type)                    Output Shape         Param #     Connected to                     \n",
      "==================================================================================================\n",
      "input_i (InputLayer)            (None, 224, 224, 3)  0                                            \n",
      "__________________________________________________________________________________________________\n",
      "base_vgg (Model)                (None, 10, 1)        20158282    input_i[0][0]                    \n",
      "__________________________________________________________________________________________________\n",
      "input_user (InputLayer)         (None, 1)            0                                            \n",
      "__________________________________________________________________________________________________\n",
      "theta_layer (ThetaLayer)        (None, 1)            10000       base_vgg[1][0]                   \n",
      "                                                                 input_user[0][0]                 \n",
      "__________________________________________________________________________________________________\n",
      "activation_1 (Activation)       (None, 1)            0           theta_layer[0][0]                \n",
      "==================================================================================================\n",
      "Total params: 20,168,282\n",
      "Trainable params: 20,168,282\n",
      "Non-trainable params: 0\n",
      "__________________________________________________________________________________________________\n"
     ]
    }
   ],
   "source": [
    "w = 224\n",
    "h = 224\n",
    "input_shape = (w, h, 3)\n",
    "dropout = 0.2\n",
    "latent_d = 10 # latent dimension\n",
    "\n",
    "user_num = 1000 # for test, this should be obtained from the dataset\n",
    "\n",
    "\n",
    "def euclidean_distance(vects): \n",
    "    # L2 distance\n",
    "    x, y = vects\n",
    "    sum_square = K.sum(K.square(x - y), axis=1, keepdims=True)\n",
    "    return K.sqrt(K.maximum(sum_square, K.epsilon()))\n",
    "\n",
    "\n",
    "def eucl_dist_output_shape(shapes):\n",
    "    shape1, shape2 = shapes\n",
    "    return (shape1[0], 1)\n",
    "\n",
    "\n",
    "\n",
    "\n",
    "input_i = layers.Input(shape=input_shape, name=\"input_i\") # image of item i\n",
    "input_j = layers.Input(shape=input_shape, name=\"input_j\") # image of item j\n",
    "input_idx = layers.Input(shape=[1], name=\"input_user\", dtype='int32') # idx of user u\n",
    "\n",
    "\n",
    "# customer layer, learn the latent matrix of theta_u\n",
    "class ThetaLayer(Layer):\n",
    "    \n",
    "    def build(self, input_shape):\n",
    "        # Create a trainable weight variable for this layer.\n",
    "        self.kernel = self.add_weight(name='theta_u_matrix', \n",
    "                                      shape=(user_num, latent_d),\n",
    "                                      initializer='uniform',\n",
    "                                      trainable=True)\n",
    "        super(ThetaLayer, self).build(input_shape)  # Be sure to call this at the end\n",
    "\n",
    "    def call(self, x):\n",
    "        assert isinstance(x, list)\n",
    "        item, u = x # u: user idx; item: visual feature of item \n",
    "        return K.dot(K.gather(self.kernel, u), item)\n",
    "\n",
    "    def compute_output_shape(self, input_shape):\n",
    "        print('input shape', input_shape)\n",
    "        return (input_shape[0][0], 1)\n",
    "\n",
    "\n",
    "# load the VGG pretrained on imagenet\n",
    "def create_base_vgg(dropout):\n",
    "    vgg = keras.applications.vgg19.VGG19(\n",
    "        include_top=False, # whether to include the fc layers\n",
    "        weights='imagenet', \n",
    "        input_tensor=None, \n",
    "        input_shape=input_shape, \n",
    "        pooling='avg',  # in my experience, gloable avg works better than flatten, need to check\n",
    "        classes=1000)\n",
    "    x = vgg.output\n",
    "#     x = layers.Flatten(name='flatten')(x)\n",
    "    x = layers.Dense(256, activation='relu', name='fc1')(x)\n",
    "    x = layers.Dropout(dropout)(x)\n",
    "    x = layers.Dense(latent_d, activation='relu', name='predictions')(x)\n",
    "    x = layers.Reshape(target_shape=(latent_d, 1))(x)\n",
    "    \n",
    "    return Model(inputs = vgg.input, outputs = x, name=\"base_vgg\")\n",
    "\n",
    "\n",
    "\n",
    "# because we re-use the same instance `base_vgg`, theta_layer,\n",
    "# the weights of the network\n",
    "# will be shared across the two branches\n",
    "base_vgg = create_base_vgg(dropout)\n",
    "theta = ThetaLayer(name='theta_layer')\n",
    "\n",
    "x1 = base_vgg(input_i)\n",
    "x1 = theta([x1, input_idx])\n",
    "\n",
    "x2 = base_vgg(input_j)\n",
    "x2 = theta([x2, input_idx])\n",
    "\n",
    "# distance = layers.Lambda(euclidean_distance,\n",
    "#                   output_shape=eucl_dist_output_shape)([x1, x2])\n",
    "            \n",
    "distance = layers.Subtract(name='substract')([x1, x2])\n",
    "distance = layers.Activation(activation='sigmoid', name='sigmoid')(distance)\n",
    "\n",
    "model = Model([input_i, input_j, input_idx], distance)\n",
    "\n",
    "model.summary()\n",
    "\n",
    "# -----------Evaluation---------------\n",
    "# evaluation is different from training, \n",
    "# input of training: [user u, item i, item j]; \n",
    "# input of evaluation: [user u, item i]\n",
    "predict_score = layers.Activation(activation='sigmoid')(x1)\n",
    "evaluation_model = Model([input_i, input_idx], predict_score)\n",
    "evaluation_model.summary()"
   ]
  },
  {
   "cell_type": "markdown",
   "metadata": {},
   "source": [
    "## load data"
   ]
  },
  {
   "cell_type": "code",
   "execution_count": 20,
   "metadata": {
    "collapsed": false
   },
   "outputs": [
    {
     "name": "stdout",
     "output_type": "stream",
     "text": [
      "{'title': \"Cheap Monday Women's Tight Fit Jean, Hard Coated, 27\", 'salesRank': {'Clothing': 586687}, 'imgs': 'ÿØÿà\\x00\\x10JFIF\\x00\\x01\\x01\\x00\\x00\\x01\\x00\\x01\\x00\\x00ÿÛ\\x00C\\x00\\x05\\x03\\x04\\x04\\x04\\x03\\x05\\x04\\x04\\x04\\x05\\x05\\x05\\x06\\x07\\x0c\\x08\\x07\\x07\\x07\\x07\\x0f\\x0b\\x0b\\t\\x0c\\x11\\x0f\\x12\\x12\\x11\\x0f\\x11\\x11\\x13\\x16\\x1c\\x17\\x13\\x14\\x1a\\x15\\x11\\x11\\x18!\\x18\\x1a\\x1d\\x1d\\x1f\\x1f\\x1f\\x13\\x17\"$\"\\x1e$\\x1c\\x1e\\x1f\\x1eÿÛ\\x00C\\x01\\x05\\x05\\x05\\x07\\x06\\x07\\x0e\\x08\\x08\\x0e\\x1e\\x14\\x11\\x14\\x1e\\x1e\\x1e\\x1e\\x1e\\x1e\\x1e\\x1e\\x1e\\x1e\\x1e\\x1e\\x1e\\x1e\\x1e\\x1e\\x1e\\x1e\\x1e\\x1e\\x1e\\x1e\\x1e\\x1e\\x1e\\x1e\\x1e\\x1e\\x1e\\x1e\\x1e\\x1e\\x1e\\x1e\\x1e\\x1e\\x1e\\x1e\\x1e\\x1e\\x1e\\x1e\\x1e\\x1e\\x1e\\x1e\\x1e\\x1e\\x1e\\x1eÿÀ\\x00\\x11\\x08\\x01¼\\x01V\\x03\\x01\"\\x00\\x02\\x11\\x01\\x03\\x11\\x01ÿÄ\\x00\\x1f\\x00\\x00\\x01\\x05\\x01\\x01\\x01\\x01\\x01\\x01\\x00\\x00\\x00\\x00\\x00\\x00\\x00\\x00\\x01\\x02\\x03\\x04\\x05\\x06\\x07\\x08\\t\\n\\x0bÿÄ\\x00µ\\x10\\x00\\x02\\x01\\x03\\x03\\x02\\x04\\x03\\x05\\x05\\x04\\x04\\x00\\x00\\x01}\\x01\\x02\\x03\\x00\\x04\\x11\\x05\\x12!1A\\x06\\x13Qa\\x07\"q\\x142\\x81\\x91¡\\x08#B±Á\\x15RÑð$3br\\x82\\t\\n\\x16\\x17\\x18\\x19\\x1a%&\\'()*456789:CDEFGHIJSTUVWXYZcdefghijstuvwxyz\\x83\\x84\\x85\\x86\\x87\\x88\\x89\\x8a\\x92\\x93\\x94\\x95\\x96\\x97\\x98\\x99\\x9a¢£¤¥¦§¨©ª²³´µ¶·¸¹ºÂÃÄÅÆÇÈÉÊÒÓÔÕÖ×ØÙÚáâãäåæçèéêñòóôõö÷øùúÿÄ\\x00\\x1f\\x01\\x00\\x03\\x01\\x01\\x01\\x01\\x01\\x01\\x01\\x01\\x01\\x00\\x00\\x00\\x00\\x00\\x00\\x01\\x02\\x03\\x04\\x05\\x06\\x07\\x08\\t\\n\\x0bÿÄ\\x00µ\\x11\\x00\\x02\\x01\\x02\\x04\\x04\\x03\\x04\\x07\\x05\\x04\\x04\\x00\\x01\\x02w\\x00\\x01\\x02\\x03\\x11\\x04\\x05!1\\x06\\x12AQ\\x07aq\\x13\"2\\x81\\x08\\x14B\\x91¡±Á\\t#3Rð\\x15brÑ\\n\\x16$4á%ñ\\x17\\x18\\x19\\x1a&\\'()*56789:CDEFGHIJSTUVWXYZcdefghijstuvwxyz\\x82\\x83\\x84\\x85\\x86\\x87\\x88\\x89\\x8a\\x92\\x93\\x94\\x95\\x96\\x97\\x98\\x99\\x9a¢£¤¥¦§¨©ª²³´µ¶·¸¹ºÂÃÄÅÆÇÈÉÊÒÓÔÕÖ×ØÙÚâãäåæçèéêòóôõö÷øùúÿÚ\\x00\\x0c\\x03\\x01\\x00\\x02\\x11\\x03\\x11\\x00?\\x00û.\\x8a(\\xa0\\x02\\x8a(\\xa0\\x02\\x8a(\\xa0\\x02\\x8a(\\xa0\\x02\\x8a(\\xa0\\x00×\\x98x\\x8a\\x0bdñ¥Ó\\x8bh\\x8c¤\\x8fÞíùù\\x00\\x91\\x9e¸ÉÎ=ëÓÍy×\\x8c\\x93Éñ\\\\ìAýíº\\x958îxþ\\x94ã¸¥±rÕ\\x17(Ý\\x88ã\\x9a¼Çø\\x81\\x02ªBê<\\xa0\\x00É\\x19Ç\\xa0ÅXm¡rÊp}«C2\\x9dü\\x06lÂ«\\x97\\x91\\x80UÇë]¼\\x11\\x88¡H\\x97¢(Qø\\nåôB.u´\\x91\\x08*\\x80\\x8cz`\\x1fêEuu3w*\\nÇ\\x93øùTxÊãÌPÀ¢\\x11\\x8e£\\x8a\\x92ÂY¼µRâxÇ¯Þ\\x15_âÞ¡¥ÙxçM±ºÔì\\xadïµ\\x0b\\x7fôH%`\\x8d)S\\x82\\x01<\\x13ÈÀêiöK<\\x18I¡xÜuÈ¦¶\\x13ÜÖ\\r\\x1br\\x0f\\x1d\\x81íJ\\x18\\x81\\x83ô¨NBîe#ß\\x06\\x95X\\x15Ï&\\x98\\x8bJÁ@ÍX\\x84ä\\x86nµE\\x1f$w\\x15r<tÁ\\xa0h²\\x0eG¶(Aòâ\\x9a\\x8f\\x85Æ)Ùç\\'\\x8cÐ0ï\\x9a3\\x9e¼P¸\\'\\x00æ\\x9a\\x0e~CÁ\\x1d\\t\\xa0Lsb\\x901ü*5\\x94oÚç\\x9fz\\x95\"cü\\'\\x1d³Å\\x02\\x10¨=qÒ³õ}J\\x1d\\x16Ð_Ê²\\x1bpÊ$(\\t*\\tëÅ;Ä\\x1aÖ\\x85áËCwâ\\x1doOÒa\\x03!®®\\x162ßî\\x82r\\x7f\\x0c×\\x85üQý£¼4¶Sh\\x9e\\x07\\x8eóQ¿¸\"%Ô\\x8a\\x98b\\x80\\x93\\x8dë»æ|uÁ\\x18=ø4\\x0f\\x94÷Ý:ú×S³\\x17\\x96\\x13,Ñ7qÛÛëV1ó\\x06Ú\\x7f\\x1açôëh´\\x7f\\x11ÜEn\\x04V·!_j\\x8c(sþ5Ðn<l9\\x06\\x81\\x97|81\\x7f(\\x19ÀOê+~°¼8\\x0fÛ.\\x0fm\\x83ùÿ\\x00õ«v³\\x96åG`¢\\x8a)\\x0c(¢\\x8a\\x00(¢\\x8a\\x00(¢\\x8a\\x00(¢\\x8a\\x00(¢\\x8a\\x00(¢\\x8a\\x00(¢\\x8a\\x00(¢\\x8a\\x00(¢\\x8a\\x00+Îügw\\x1d×\\x8a\\x168Îï³(FR¿Å\\x9c\\x91ù\\x1fÖ½\\x10×\\x9aøÍ¡°ñT÷Ú¤°ØÚJª±O+\\x84Y\\x08Q\\x9eOzq\\x13¿BÝ¼N\\x0eö\\x07\\x997v<TóFÂV+\\x9c\\x15ÆÞÙªÖDI\\x12Iis\\x15Â\\x1eA\\x8dÃ\\x06\\x1e£\\x15i¥l\\x8f9HÀäæµJæMôeï\\n\"Ã©8X\\x82\\x86\\x8cóß¨5Ô÷®\\x06ËS·\\x1a\\x97\\x9do{\\tû#\\x8f´Ä\\xad\\x99\\x02\\x9e¹^\\xa0`Wy\\x13o\\x8d_k.å\\x07\\x0c0GÖ³\\x9eæ\\x91Øø¿þ\\n \\x9eo\\x8c¼)\\x1c¡L_`\\x94¨#ø¼Î\\x7f¥x·\\x85þ&üAðÄqÛèþ.ÔVÚ?»mpÂxñè\\x03\\x82@ö\\x04W¥þÞ\\x1a½ÍçÆ\\x8bm2XöÁ¦é±\\x08Ø\\x7f\\x17\\x98K\\x1cþ<~\\x15áI±×î\\x9fÂ\\x8b\\x9aZèö½\\x0fö\\x9bñå\\x96F\\xad£h\\x9aªu\\x05ch\\x18~D×w\\xa0þÔ\\x1e\\x16¾\\x0bý»á}KLÜ?ÖÂÂUÏèq_*Ü+Ç\\x0b:\\x1cñÒ¢\\x127Ù\\x126$©Q\\x90E\\nBqGÝZ7Æ\\x1f\\x86Ú°_²x»O\\x85È\\x04ÅvÞA\\x1eÙl\\nï¼=«i:âïÑõ;KñüI\\x04Ë#/¿\\x07¥~j\\x98á#\\x0c\\x9c\\nt1ÛG(\\x96\\x19¥µ\\x99~ì\\x91±V_¡\\x14ùÉp?O\\x11\\tÜªw2\\x9c\\x15Æ\\x08úæ\\x9d\\x86+\\x81\\x83_\\x9c¶^8ñý\\x96Ãeãík÷x1\\x89nÚLc°ÜN\\x07·J§«üBñþ·\\x0c«\\xadx¿W¹\\x8d\\x0e<´ºhÐ\\x9eÿ\\x00*`\\x1a/qr\\x1f¡ú÷\\x88¼?¢G#j\\x9e!Ò´ùQK\\x14¹»HÉÀé\\x86\"¸\\x8f\\x11ü|øM¥Y¬¿ð\\x92ÿ\\x00hLè® ±\\x81¥q\\x91\\x9eO\\n?:ø\\x16? \\x9f2@I<åºÖ\\x85º\\x8c\\x03\\x14`dçëC\\x90ù\\x0f¦üKûV\\x99\\x8bGá_\\x06Ëç\\x05*n/çÀ\\x1e\\x8dµ\\x7f\\x915æ^$øÙñOÄHñÏây4¸\\x18m1i¨ Ï¾á\\x96\\x1f\\x9dy²Æëv\\x82\\\\âEì{\\x8fÿ\\x00]Y\\x11°?|\\x00=é9\\rE\\x0e\\x9c5ÍÓ]ÞM5ÝË\\x9c´ÓÈÒ;\\x1fRÍ\\x92h\\x90\\x85\\x11²(\\x026Ï\\x03Ò\\x95\\x1d\\x01åþ½é%&@V5#?ÄjnRGè.\\x89«[kÞ\\x17Óµ\\x16%|ÛH\\x98¹ÀÁ(\\x18þY5¾.Jí_-\\x8f\\x1dG?ç¥y\\x0fìëâK;ÿ\\x00\\x87\\x1ae³\\x95{\\x88cky\\x18\\x9c\\x8dÉ\\x9e\\x08ú\\x15\\x1f\\x88¯Vo¶O\\x1ebò¢^ÆA\\x92F\\x7f/Î¶Jç<\\x9d\\x99Òx]ÃÛÌù;·\\x80AíÅlW+á»Ùà¼\\x8aÃìá\\x8cÙi\\x1b¦Ü\\x03\\x9aê«)-M\"î\\x82\\x8a(¤PQE\\x14\\x00QE\\x14\\x00QE\\x14\\x00QE\\x14\\x00QE\\x14\\x00QE\\x14\\x00QE\\x14\\x00QE\\x14\\x00QE\\x14\\x00\\x1e\\x95äÿ\\x00´\\xadºOáÍ,È\\x81\\x95nÏ\\x07ýßþµzÅy·í\\x0e\\x80ø2ÖL}ËäþMX×þ\\x1b7Ã\\x7f\\x16\\'\\x98øWEÓ\\x9aD\\x91 0Ì:I\\x0b\\x18Ø\\x7fÀ\\x94\\x83[^!}JÆÄÅa¯jP\\x96á\\x0bJ\\x1c\\x83é\\x96\\x04Õ?\\n>9Ïn+bæÝo<A¤ZH0\\x92ÞB\\x18z\\x8dã?¦kÈ£9«$Þç»\\x88§\\x17vÒzv:Äð\\x0cÇâV\\x81â2ÑÃ\\x0e\\x97¤µ½ËF\\x02µìÌW\\x97ÇP6îç¹\\x15è´\\x84g\\x1eÕ[Uº{\\r&îö;y.ZÞ\\x07\\x95a\\x8fïHUI\\n=Î1ø×º|ÝÏ\\x80ÿ\\x00m=^ßVý\\xa0o¡³d\\x8dôË8meb8wÆâ\\x0fÓx\\x15ä(©Ç\\x9b\\x13Æ\\x7f¼¼©§ø\\x8bZ¸ñ\\x07\\x88µ/\\x11jóo¾Ô®\\x9eæàc\\x80ÌIÚ=\\x86@ü*\\x9aÏ\\x127È²Gþéªe\\xad\\t.\\x94ít\\x89É,02?\\x88ô\\x14\\xad\\x1b£\\x85`\\x14\\x9e@j\\x8d\\x99æP\\x0b\\x80Û²NqÏj\\x95VN¯\"µH\\x86\\x94\\x93û\\xa0þ4\\x8c\\x0e2cÉ§\\x9c\\x8e\\x94£v:Ð\\x04 °90þ\\x95^\\x0bs4òïYR\\rÀï\\np\\x1b¸ÏOÂ®âBxaøÕt¶2ê¹c·be\\x88÷\\xa0\\r\\x08BG\\x0byP\\x12\\x889,@\\x14+Í ;U\\x06zc\\x9cS&RÑy{Ê¨#§sM[u\\x1fzW>\\xa0½\\x002ùf\\x87É¸ó\\x03\\x94\\x90o_¯\\x1fÖ¥\\x8eO´+»BÌW\\x8f½\\x81\\x9eßZl\\x96°²\\x8f-\\x94\\x1cç$ç4Ý\\xad\\x04móoÈÆ\\x01\\x14\\x01iVSÁ\\x8d#Z\\x95x\\x18Ý»ñªI,\\x0c\\x03\\\\K#9ê\\x08àTÊñ.\\nÄ\\x08õ\\x074\\x0cö/\\x82×Ësc\\x16\\x9aÓÏ\\x10·\\x9d\\x9d|\\x99\\x9a2Y¹ä©\\x07\\x1ct¯£ôás\\x1d\\x8aIk©Þ¦\\x06rÒï?\\x89l\\x9aù\\x17àõ÷\\x91â\\t`\\x19ÁÛ*\\x9f§\\x04WÖ\\x1e\\x1f\\x9cM§+\\x02>îMy8\\x9a\\x93\\x85GfÏg\\rJ\\x9dJ1n(ï>\\x11Ëu\\x7fey}¨Ý-ÅÔS´\\x00¬ap\\x9c\\x11\\x9cu>õÝ÷¯<ø.À&¹\\x17B.\\x95±ìWÿ\\x00\\xad^\\x84+Ð¡7:i³ÊÄÁB¬¢\\x85¢\\x8a+c\\x00¢\\x8a(\\x00¢\\x8a(\\x00¢\\x8a(\\x00¢\\x8a(\\x00¢\\x8a(\\x00¢\\x8a(\\x00¢\\x8a(\\x00¢\\x8a(\\x00¢\\x8a(\\x00¯<ý\\xa0W>\\x00\\x07Òò#ú5z\\x19®\\x03ãïü\\x93©Ïqq\\x16?:Îª÷\\x19\\xad\\x0fâÇÔó\\x1f\\x0bH\\n\\xa0è{WO¢¯\\x9bã\\x9d\\x1e<gý#wä¤ÿ\\x00Jã¼\\x12í$Ñ\\x86û\\xa0u5Ûø=\\x03üBÓ\\x861åù\\xadÏû\\x8c?\\xadxôW¾\\x97\\x99ïâ]¡/CØ+\\x13Ç\\x9aÄ^\\x1dðN¹¯Oqöt°Óæ¸ó8ùJ!#\\x19à\\x9cã\\x00õ8\\xadºùßöôñYÑ¾\\x12ÁáÛy\\nÜk×\\x8b\\x1b\\x81\\x8fõ1áÛß\\x96\\tú×¸|Ùð\\x9d¼m*\\x1f0gsïä÷õ«\\x02/ïH\\x05I\\x12:F\\x14 l\\x0e\\x08¥bÃï¦=ª\\x99c\\x02\"ñ\\x81õ\\xa0\\x00:dÒî\\x00ð¹\\xa0³ç\\x88Î=\\x85H\\x84ÜG\\x18À§\\x83\\x91\\x9aagÇ1\\x91øP\\x1d\\x87ð~t\\x00ò2}ª\\x1b\\t\\x08\\x92á\\x97©m\\xa0\\x9fAR\\x89N\\x0eW\\x8cT6\\tû\\x93!û¥\\x8fë@\\x16åTlob:t¨\\x8cv¸å\\x89?Zs`\\x9cÑ\\x8fA\\x9a\\x00\\x88¥·@\\x0fäiÁ#è°\\x81îF*eY\\tÀP)áXP\\x03\"\\x88\\x8e\\x01\\x03=\\x89Í;È<\\x85ÀS×\\x1cT\\x8b\\x12\\x11\\x92\\x874ÿ\\x00\\x95z\\x00>\\x94\\r\\x1a\\x9e\\x07¸k\\x1f\\x10ÀF\\x04OÁ9ÉÍ}qàK\\x8f;NE\\x07\\x82¸>õñÄ\\x13\\x18g\\x8a`q²Eþuõ?ÂkÓq¦@wç\\n3^f:>úg±\\x80\\x95é5Øõÿ\\x00\\x84\\x0f·ÄºÌ]7Ã\\x1bãèHþ¢½:¼§á³\\x18> Ë\\x1fE\\x9eÉÈú\\x86Cþ5êõÓ\\x84\\x7fºG\\x06=Z³}Â\\x8a(®£\\x8c(¢\\x8a\\x00(¢\\x8a\\x00(¢\\x8a\\x00(¢\\x8a\\x00(¢\\x8a\\x00(¢\\x8a\\x00(¢\\x8a\\x00(¢\\x8a\\x00(¢\\x8a\\x00\\ry×í\\x08á|\\x00\\x14\\x9eZò1ú5z)¯$ý¥&uÒ4\\x98\\x06v4îì=H\\x00\\x0fçYÕv\\x837Ã+Õ\\x89ç^\\x08p\\x92/ûÕè¾\\x06\\'þ\\x16%¸È!\\xa0\\x90þ\\x95ç^\\x12!\\x049Ç8¯Cðh\\x11üB°`xxä_üp\\x9fé^M\\x0fâ#ßÆ/ÝHõÑ_\\x0c\\x7fÁAu8/~+hzJ\\x17\\x12iú^ù1ÿ\\x00M$$\\x7fè\"¾ç¯ÍOÚ_U}[ö\\x84ñ}Ç\\x9bæ\\x8b{ß²Ç¸çh\\x89Bm\\x1eÙ\\x07õ¯m\\x1f2\\x8f<Dà\\x18î¤Sèã5:\\x0b\\x928¸\\x88ýA¥V\\x94¯ú¸Ûêiß½Çü{\\x0fø\\x0b\\n\\x0b\\x10\\x9bÅ\\x1cG\\x1b\\x8ffÅ7í² ÃÛ84ÿ\\x006D\\x1cÛÈ>\\x80\\x1ak]F8u\\x91~©HV\\x1a5\\x00zÇA»\\rÆÊxº´a\\x86ÿ\\x00Ði\\x19ìXpÀ\\x1a\\x00\\x8d¤R¤ð8¨\\xadF N{r)n<°\\x8cclä`RFãî\\x9c\\x8cP\\x04¬á[\\x9ey§\\xadÓ\\x0e\\x12\\x02j!\\x849 f¦Y\\x88\\x18T\\'ð\\xa0\\x03Ìº~\\x90(úÓÖ;¦äù#ð\\xa0I1çn\\x05L\\x8cØù¸\\xa0\\x06\\x08®\\x07ñÇù\\x1aryÊ~eSô5*\\x91\\x822)r=h\\x1a%²Óïu{\\x98´\\xad.\\x06\\x9fP»q\\r´+ÖI\\x1b\\x80«îIÅ}\\x01ð\\'P2ÙB¬3º5#\\x8eÄf¼£à\\x8bmøÏàß}jÐ\\x7fäU¯Uøc`4¿\\x1bë\\x9a,y\\x11i·÷\\x16é\\x93Ñ#\\x91\\x94~\\x80W\\x1667\\x8ag£\\x97JÓ\\x92=ËÃ7)eãý\\x19Ù°\\x93\\x97\\x84\\x9fvC\\x81ÿ\\x00}b½\\x8b½|ýâk\\x99,b³¿\\x83å\\x96ÒHçFô*A¯|±¸\\x8eòÊÞî vO\\x1aÈ¹ôa\\x91üéàß¸Ñ\\x19\\x8c-(Ëº&¢\\x8a+°ó\\x82\\x8a(\\xa0\\x02\\x8a(\\xa0\\x02\\x8a(\\xa0\\x02\\x8a(\\xa0\\x02\\x8a(\\xa0\\x02\\x8a(\\xa0\\x02\\x8a(\\xa0\\x02\\x8a(\\xa0\\x02\\x8a(\\xa0\\x02¸/\\x8eº\"êÞ\\x03¸¹U&ãO>|d\\x0c\\x9ctaùsÿ\\x00\\x01®ö²<l\\x01ðf¸\\tÀþÎ¸ÉôýÛTÉ&\\x9aeÓ\\x93\\x8cÓGÎ^\\x13>bC\\x93Àçèk¿Ó&[\\rkOÔ\\x1b\\x81\\x14êXú)ù[ô&¼ûÂÛc\\x8a\\'<\\x06\\x19ã¹®âØ\\x99¡Úã¯L×\\x8d\\x17iÜúZË\\x9e\\x16î{j°`\\x18\\x10T\\x8c\\x82;×å\\x0f\\x8aõ\\x18õ\\x8f\\x1cëú¼o¾;íNâá\\x1fÔ<\\x8cÀþ¢¿C®¼\\\\ÚGÁï\\x14ÞÜK\\x8b\\x8d\\x17L¸\\x92&vÁ\\x7fÝ·\\x97ÏûÀ/å_\\x9bZ\\\\\\x8a\\x90\\rðä\\x1e\\x85E{p\\x974n|Üàá\\'\\x16h\\'Ð\\x9a\\x99OO\\x94þtÈZ\\t8\\x8eQ\\x9fCÅJ\\x10\\x8e¤\\x8fCëT\"EÝ\\x8fJR¤õP~´À\\x99îi\\x1a\\x15=\\x19ÇãJÀÆ=¾ïùdµ\\x04\\x96¬?å\\x90\\x1fJ\\x9cÚÿ\\x00ÓI\\x07ãQ½¶\\x06~Ðÿ\\x00\\x9d\\x02(Ü¡HÈ\\x03\\x14Ô-»>L\\x8fþí^\\x8bM½¿¸\\x8aÃLµ¹Ô/®\\\\Gomo\\x19\\x92Y\\\\ÿ\\x00\\nªä\\x93[>:øyã/\\x87Ú^\\x99¨øÓC}6-WwÙ\\x11¦C!Û\\x82Á\\x95X\\x958aÃ\\x01Ö\\x80g>\\x97\\x01zYÌO½<KpÜ¥¹_«b«E,mó,\\x12\\x8fÃ5f)\\x93û²\\x01þí\\x00H#¸nX ú\\x92jD¶\\x9fþz(úf\\x9d\\x14\\x91\\x11÷\\x88>â§F^ÍH\\x08Ö\\t\\x87YAüM=Uû\\x91R\\x83Å%\\x03GSð[#ã?\\x82Ç9:å§Oúìµô/\\x83ôäºø¡ã}Y#1Û¾³s\\x14HGR²\\x10Çñ ×ËÞ\\x1aÕ/t_\\x16èº®\\x98\\x91½ý\\xadü2Ú¬\\x83*dW\\x0c2=8¯±|\\x11¥®\\x9b\\xa0Ã\\n»3\\x84\\x1b\\x8bubz±÷\\'&¹1oD\\x8eü\\x04}ç2ß\\x89->Ômm\\x01\\x1f¾\\x95cüÎ+Ý¡\\x8a8!\\x8e\\x18\\x90$q¨TQÐ\\x000\\x05xn±+Föò\\x12r\\x92£gèE{\\xad,\\x1eÌ3\\x17¬}\\x02\\x8a(®ÃÍ\\n(¢\\x80\\n(¢\\x80\\n(¢\\x80\\n(¢\\x80\\n(¢\\x80\\n(¢\\x80\\n(¢\\x80\\n(¢\\x80\\n(¢\\x80\\nåþ*Ýµ\\x9fÃÍfT 3Aå\\x0f}ì\\x10þ\\x8ck¨¯6ý\\xa0¯\\x84\\x1e\\x13µ±\\x192]]\\x02\\x00î\\x10\\x12\\x7f\\x98©\\x9b´Y¥\\x18óTHò¯\\x0f*\\xad¤küE¿!]\\x848ò\\x01\\\\\\x9fñ®KE\\x19\\x82!\\x18,ÁÈ\"¬øÇ^\\x8f@²´¸\\x94°\\x8eiÖ\\x02@û¥³\\x8cþ8\\x1f\\x8dy)j}#WµÌ\\x0fÚBêö\\x0f\\x82þ!\\x16.\\x14N\\x91Gt\\x08ûÑùÈß\\x9e@ýkãÝ9\\x80@\\x178÷ë_]|p-qðcÄ\\x12\\x11º/³\\x07\\x0f\\x9e¿:â¾DÓ?Õ\\x8f¥z8VÜO\\x1f\\x1d\\x15\\x1a¦\\x8eÈäûè§\\x1dñÍ=#Q÷$t\\x1e\\x99Èü©©S\\'\\x04WIÄ\\x01%Ç\\x13)\\x1eëNÄØûñþT¢\\x83@\\t\\x83Ý³HTz\\nPsM\\x91°¤ä\\x0eÔ\\x80úWö\\x07ð\\x9cW\\x9e\\'×|is\\x06ïìø\\x96ÊÍÈ\\x18Y$æB=\\x08P£#³\\x9aä\\x7fà\\xa0ºÄ·ÿ\\x00\\x19t½\\x15\\x94¬:f\\x98\\x8c¼ýö\\x91\\x89\\'\\x1eØ\\x03ð¯¥?cï\\x0e\\x7fÂ?ðCK\\x9aX\\x82\\\\j®÷Òq\\x82C\\x1c&\\x7fà*?:ùOöë\\x94KûDÜ¨\\x1fê´Ûd>ÿ\\x00)?Ö\\x82O\\x1a\\x81±\\x80\\x00«hÍTâ«(=èc,§ºÔéþíU\\x8c¸<`ýjÄm)\\x07î\\x8a@M´ð{P}©\\x83wF|Ó\\x86;t¦4YðÌ±Çñ\\x03ÃÞq\\x025¹ÞÄû\\x0e?Zû_J\\x936±\\x11Ó\\x03\\x9c×Í?³×\\x86G\\x88\\x0f\\x8f5\\x07\\x80H\\x9af\\x8b\\x11V#%\\x1fíQM\\x91èvÀãèM{æ¡¨¦\\x87áC}&\\nD\\x81Q7cs\\x12\\x02®O©\"¸qzI\\x1e®^¹\\xa0×\\x99·®\\r¶Ûý\\x0eq^Û¥ÎntËK\\x93É\\x96\\x14sø¨5àö\\x92Éwáåy\\x9c;\\x98Ã\\x16^GJõï\\x86·\\x89}à\\xad:D\\x93\\x7f\\x96\\x86&>êHÿ\\x00\\n0¯V\\x89Ì¡îÅöÐèè¢\\x8aí<\\x90¢\\x8a(\\x00¢\\x8a(\\x00¢\\x8a(\\x00¢\\x8a(\\x00¢\\x8a(\\x00¢\\x8a(\\x00¢\\x8a(\\x00¢\\x8a(\\x00¢\\x8a(\\x00®\\x1fã>\\x8cu/\\x08¶¡\\x12\\x17¸ÒÉ¹Uþò\\x01ó\\x8fûç\\x9fÂ»\\x83QÍ\\x1csÀðL\\x81ã\\x91J:\\x9e\\x84\\x11\\x82)5ub¡>I)\\x1f,x/R\\x82I\\\\3fA)ÊzW©x\\x1bCÓµéõT¿\\x81gÅ\\x99\\x85\\x15ÆTy\\x8aU\\x8f×\\x1c~&¼b[9|+ñJçH¸\\x1f.ÖS\\x9e\\x15¶·\\x0c>\\xa0\\x83ø×\\xa07Ä\\x9d/á\\x82Ã©êÖs\\\\iz\\x84\\x91Ã4ð\\x91ºÜòAÚ~ðëÞ¼újÕ\\x12g¿\\x88nto\\x1dÿ\\x00CÏõçþÙø7«éLÅ§\\x9bO\\x93Ëã!\\x98)#\\x9f÷\\x80¯\\x92ô®b\\x15÷\\x95\\x87\\x83à\\x8bMÕc·\\x95ZÑ!ií$\\x03å\\x96Ý¾dl\\x9cd\\x14 ñÐäWÂ\\x1at~[I\\x16s±ÊäwÁÅtá®®\\x99Å\\x988IÆQ/\\xadJµ\\x12õ©\\x07\\x02º\\x8f4\\x90\\x13\\x9aZ`9¡\\x8e(\\x18½êÞ\\x85¥\\\\kÞ#Òô\\x1b%ÍÎ£{\\x15¬\\x7fï;\\x85\\x1f\\x879\\'Ð\\x1a¦§\\xad{Oì[á£¯|l\\x8bU\\x92-öº\\x15¤\\x97LHÊù¬<¸Ç×æf\\x1fîP\\x0cû§G°·Ò´\\x8b=.ÑJÛÙÀ\\x96ñ\\x03Ù\\x11B\\x8fÐ\\nø\\x03öí\\x89cý¡euë&\\x99lÇÛ\\x86\\x1fÒ¿Bkà\\x7fÛöÓÉøÝewÚãI\\x8bÿ\\x00\\x1df\\x14\\x91(ðHªÂtªñô«\\tÒ\\x862d8\"¬!ªñÔëÁ\\x14 \\'^\\x94p\\x01¦©æ\\x96c¶\\x16\\'Ò\\x98Ï¡\\x7fg\\x1bfÓ>\\x00øÛY_\\x92ãXÕ-ôøH\\x19Þ¨Wr\\x8fø\\x0bÉùQñïR6ÿ\\x00\\x0f´k)æ\\x92Þò]R\\x04·P\\x9b\\x92N»\\x83\\x1eÃ\\x07=ù\\x15Ùü1³ÒtOÙ\\x9bÁ\\x96ú\\x9dý½¥Æ«ª5Ì1Lû^Ws\"aG¨\\x05Oåê+\\x81ý«mWVñ\\x87\\x87<?¤K¿M¶½Eº\\x9e?¹\\x1cÏ\\x80\\x89»ûÛUÈ\\x1dk\\x8e¶µ\\x15ÏS\\x06Ôh»nÙéþ\\x13\\x9eh<\\x03k5Á\\x8cËöqÈ\\x18\\r\\x91^½ðzÂâÃÁ6âá\\x0c~|\\x8d2Fzª±ã?^µæ\\x1aF\\x9a\\x8f\\x16\\x85áÛ@v¼\\x89\\x19\\x1dr\\x83\\x19\\'Ø\\x01^ý\\x1a¤h±¢\\x85U\\x18P:\\x01éK\\r\\x1dä\\x19\\x9d]\\xa0½GQE\\x15Öy\\x01E\\x14P\\x01E\\x14P\\x01E\\x14P\\x01E\\x14P\\x01E\\x14P\\x01E\\x14P\\x01E\\x14P\\x01E\\x14P\\x01E\\x14P\\x00h¢\\x8a\\x00ù÷ö\\x98ð¦¨¾\"Óüe¦ØÉ=¬)²ñâ\\x191p@v\\x1e\\x98Ç>ÕÎÉ|5=\\x05åÓ\\xad´ÝBt\\x8c¯Ù5\\x08\\x04ÐN8ùH<\\x82q\\x80Ã\\x91Ú¾¢\\x91C©VPêÀ\\x86R8\"¼\\x7fÇ\\x1f\\næ±¹}gÀé\\x1cG\\x97\\x9fO\\'\\x01Ï_Ý\\x9eÇÛò®j´µç[\\x9e\\x9e\\x17\\x15\\x1e_eSnçÉß\\x1c¾9ë¾1¾ÒS@]CÂ7\\x166/§ê\\x96\\x10Í¶\"wtL\\x7f\\x0e8ä\\x02;W\\x93Z¢¢\\x80\\x8a\\x00ö¯Vý§t[[mKGÖ\\xa0¶û\\rÄåá¹µh\\x82H\\x1dpInääû×\\x97F6\\x8aÞ\\x9c¯\\x1bõ9kG\\x92|·º%Z\\x91*1O\\x1d8\\xad\\x0c\\x18âi3Èâ\\x90\\x9e)s@\\n\\x08\\x19Í}¥û\\x07xhiß\\rõ\\x1f\\x12I\\x10\\x13k\\x17\\x84#\\x11óyQ\\x0c\\x01ôÜX×Ån®ûc\\x89K¼\\x8dµ@\\x19$\\x9e\\x80{\\x9aý=øgáÔð\\x9fÃý\\x0fÃª»M\\x8d\\x94qÈ3\\x9fÞc/ÏûÅ©0{\\x1d\\x10¯\\x87ÿ\\x00à¢P\\x05ø\\x8dá\\x99Àåô·\\x07ß\\x12\\x9aû\\x82¾6ÿ\\x00\\x82\\x8cXíÕ|!©\\x8e\\xad\\x14ð~E[úÐ\\x84\\x8f\\x94ãëVR«Æ9©Ó¥1\\x96\\x12¦N\\rB¾Õ(ç\\x14\\x01:ÒL¥×``\\xa0÷<ãüÿ\\x00JE®\\x83áÞ\\x81ÿ\\x00\\tg\\x8fô\\x1f\\x0cb`\\x9a\\x95ôPLÑ}ô\\x88\\x9fÞ0í\\x90\\x81\\x8f>\\x94µè4{7\\x8b/ôMkþ\\x11½r×M\\x96ûKÒ4Hl\\x12Îè\\x95IÙWï(^\\x99b8ÏÍ\\x8f|Vw\\x81|\\x07osw\\x07\\x89|B³/\\x91#5¥\\x9eHTby*½½¾\\x82½Êçà}ìZö\\x9c-µX®´È Ø~Ð\\x9b|\\x97\\x07\\x1b\\x82\\x0f¼HÇR;ô¯Lð¯\\x824\\x9d\\x06_µa¯oGÝ\\x9a`?v=\\x11z/×\\xadqºu\\'-OYâ°ôé¥\\rm·©Ì|\"Ñ5)5[\\x8f\\x10júlÖK\\x1c~E\\x8aN¥_\\x04üí´ò8\\x00\\x0cú\\x9aôú9¢ºc\\x15\\x15dyUjÊ¬Ü¤\\x14QEQ\\x98QE\\x14\\x00QE\\x14\\x00QE\\x14\\x00QE\\x14\\x00QE\\x14\\x00QE\\x14\\x00QE\\x14\\x00QE\\x14\\x00QE\\x14\\x00QE\\x14\\x00QÎh¢\\x80>\\rý»X\\x9f\\x8eVë\\x92\\x02é0\\x9e;\\x12Ï\\x93õàsí^\\x18\\xa0\\x01Ó\\x18¯qýºN~; ôÒ`þo^\\x1c)\\x97¾¬x§©¨ÔäSÇjd\\x8e¥\\x1cô¤^\\x94áÒ\\x81£Ñ?f\\x9f\\r\\x1f\\x15|qðå\\x93\\xa0kk)ÿ\\x00´n226Áó\\x8c\\x8fBû\\x17þ\\x05_£\\x15òOü\\x13ÿ\\x00Ãûï|Oâ©\\x11NÄ\\x8fO\\x85\\x88ädù\\x8fÏà\\x95õ°æ\\x93\\x13\\nù;þ\\n6\\x9fñ ðt\\x80sö»\\x90O¶Ô5õ\\x8d|§ÿ\\x00\\x05\\x18\\x1fñJøHÿ\\x00Óôÿ\\x00ú\\x02P·\\x12>7N¢¬ ¨SµX\\x8cS(\\x95:ÔÉQ(©R\\x80%\\\\b½³ö\\'Ñ\\x86©ñÒ=E\\x8b*é\\x1at÷#\\x03\\x82Ì\\x04 \\x1fÂV?\\x85x\\x908\\x1fÒ¾µÿ\\x00\\x82\\x7fèå4¯\\x14ø\\x81Ô~þxm#$s\\x84RÍú¸ü©\\x07Cêj(\\x14R$(¢\\x8a\\x00(¢\\x8a\\x00(¢\\x8a\\x00(¢\\x8a\\x00(¢\\x8a\\x00(¢\\x8a\\x00(¢\\x8a\\x00(¢\\x8a\\x00(¢\\x8a\\x00(¢\\x8a\\x00(¢\\x8a\\x00(¢\\x8a\\x00(¢\\x8a\\x00ø\\x1föã$ü|qØivãÿ\\x00Bÿ\\x00\\x1añ.õí\\x9f·\\x07\\x1f\\x1feÈë¦[~_5x\\x9dSØ¥°åâ\\x9fL\\x1d©â\\x81\\x0e\\x14¬HBGn\\x87ßµ ©\"\\x85î\\'\\x86Ú%-$Ò,j\\x07rH\\x00PR>úý\\x8f´3¢ü\\x0bÒdp¾f£$·\\x8d\\x85ÁÃ6\\x14\\x1f^\\x14~uì\\x03¥fø[JM\\x0fÃ:^\\x8a\\x85Yl,â¶\\x0c£\\x01¶ \\\\þ8\\xad*\\x92\\x02¾Sÿ\\x00\\x82\\x8c\\x1fø¥|\"=o§ÿ\\x00Ð\\x12¾¬¯\\x93ÿ\\x00à£.?á\\x1fðt`òo.N?à\\tMn\\x08øõ;U\\x84íP \\x19«\\tÒ\\x99Dªy©\\x16¢\\x1dEJ½h\\x01ìp\\x84û\\x1aý\\x01ý\\x914?ì_\\x81z1e\\x0b%ûIxüsó6\\x06\\x7f\\x05\\x15ð\\x02D÷\\x13Em\\x1a³I+ª Q\\x92I8\\x00{\\x9aýIð¶\\x96\\x9a/\\x86´Í\\x1d6í²´\\x8aßå\\x1c\\x1d\\x88\\x17?¥&&i\\x01\\x81\\x81E\\x14R\\x10QE\\x14\\x00QE\\x14\\x00QE\\x14\\x00QE\\x14\\x00QE\\x14\\x00QE\\x14\\x00QE\\x14\\x00QE\\x14\\x00QE\\x14\\x00QE\\x14\\x00QE\\x14\\x00QE\\x14\\x00QE\\x14\\x01ð_íÒ6üvFõÒ`þo^\\x1d^ùûz[\\x18~2é÷Dñ>\\x93\\x1e\\x07û®ãú×\\x81\\x0eµEô\\x1e;S\\x87zhÆ9ëO\\x03\\x0b@\\x85\\x1d+¿ý\\x9e46ñ\\x0fÇ\\x0f\\tØ\\x05\\x0c\\x91_-ä\\x81\\x86FÈ3)\\x07ë³\\x1f\\x8dp\\t_E~Á\\x9a\"Þ|IÖuÉ\\x14\\x15Ó´ï.<ÿ\\x00~V\\x03?÷Ê0üi\\rè}«E\\x02\\x8aD\\x05|sÿ\\x00\\x05\\x16¼Ý©xGNì#\\x9e\\x7fÌ¨þ\\x95ö5|Aÿ\\x00\\x05\\x0c¸ó>$xnß´Za?LÊ\\x7fÂ\\x9a\\x1a>n\\x8fµN\\x9d*\\x04íV\\x17µ1\\x92%H£\\x91QúT\\x8bÔP\\x07¡þÍ\\x9a\\tñ\\x1fÇo\\nØ²\\x93\\rµßÛ¦;r\\x00\\x81L£>Å\\x95Wþ\\x04+ôv¾4ý\\x80tQsã\\x7f\\x12x\\x89Ã\\x01g`\\x96\\x91ñÁ2¾ãÏ¨\\x11\\x0fûê¾Ë¤ÄÂ\\x8a(¤ ¢\\x8a(\\x00¢\\x8a(\\x00¢\\x8a(\\x00¢\\x8a(\\x00¢\\x8a(\\x00¢\\x8a(\\x00¢\\x8a(\\x00¢\\x8a(\\x00¢\\x8a(\\x00¢\\x8a(\\x00¢\\x8a(\\x00¢\\x8a(\\x00¢\\x8a(\\x03ã/ø(j\\x8føL< Ã\\x196S\\x02}¼Å¯\\x99\\x90\\x0eµï\\x7f·®©5ßÆm;Jr¾M\\x86\\x96\\x8d\\x1e=df-\\x9fûäW\\x82¯LS-lH\\x058ô¡zPzS\\x12\\x05õô¯µ?`Í\\x13ì\\x7f\\r5Mmö\\x97Ôu\\x02\\x80ã\\x90±(\\x18üËWÅLH\\x88úã\\x8aý ý\\x9d4VÐ>\\nx^ÅÕ\\x04\\x8db·\\x0eTuóIpO¾\\x18~T\\x98Hô\\n(¢\\x91!_\\x01þÝ×f\\x7f\\x8eâÜ¶VÛL\\x81\\x00ô\\'s\\x1fæ+ïÊüçý±n¾ÕûDkà\\x9cù\\t\\x0c_\\x94J\\x7f\\xad44yD]jÂ\\x0e8¨\"ä\\x8a²\\x83\\x8ac\\x1c>´òp¤ô\\x14Ú$?!\\xa0\\x0f¸¿aM\\x1bû?á\\x05Î¤ß{SÔd\\x93\\x18è¨\\x02\\x0fäkè\\nóÏÙ²Á4ß\\x81¾\\x14·U\\nZÄJÜu.K\\x13ú×¡Ô\\x92\\x14QE\\x00\\x14QE\\x00\\x14QE\\x00\\x14QE\\x00\\x14QE\\x00\\x14QE\\x00\\x14QE\\x00\\x14QE\\x00\\x14QE\\x00\\x14QE\\x00\\x14QE\\x00\\x14QE\\x00\\x14QE\\x00\\x14QE\\x00~o~Ôz\\x89Ôÿ\\x00h\\x7f\\x16ÉçùÑA:[!þîÈ\\x91YGÑ\\x83W\\x9d/lÕß\\x15ê\\x91ëÞ4ñ\\x0e»\\x0b\\x16\\x87QÕ.nã\\'®Ù%f\\x1f¡ª\\x00ó\\x9ae\\x96\\x10\\x9cPÞµ\\x1eHéNRZ\\x98X\\x91\\x11§\\x96\\x18\\x11Ii\\\\ \\x1fS\\x8aýRÐôø´\\x9d\\x16ÇJ\\x80\\x96\\x8aÎÚ;t\\'©TP£ô\\x15ùÃð\\x1bF\\x93_øÙàý68Ö@58îeVû¦8O\\x9aùÿ\\x00\\x80¡¯ÒªL\\x96Â\\x8a(¤ ¯Í\\x7fÚ©·þÐþ-=qr\\x83ò\\x89+ô¢¿7¿kkcoûDx£?/\\x9b$R\\x0fÆ$¦\\x86\\x8f2\\x83\\x9cUÈ\\x80ª0\\x1cU¸Ï\\x14\\r\\x921çÚ\\x9aê_j/W`¿\\x99¥Ý\\x90iöØûu®{L\\x87õ\\x14Á\\x1f¨?\\x0eôã¤x\\x0b@Ó\\x18a\\xad´è#\\x7f÷\\x82\\x0cþ¹\\xadêlE\\x0cHcÆÂ\\xa0®=)Õ$\\x85\\x14Q@\\x05\\x14Q@\\x05\\x14Q@\\x05\\x14Q@\\x05\\x14Q@\\x05\\x14Q@\\x05\\x14Q@\\x05\\x14Q@\\x05\\x14Q@\\x05\\x14Q@\\x05\\x14Q@\\x05\\x14Q@\\x05\\x14Q@\\x05r?\\x19üB<)ð\\x9fÅ> \\x13y2Ùés´\\x0fé1B±~nT~5×WÌ\\x9fðPO\\x14}\\x87À\\x1a?\\x85 \\x9bl\\x9aµè\\x9au\\x04äÃ\\x178>ÅÊÿ\\x00ß4\\x01ñe\\x8a\\x84·QÀ©ò3\\x8a`ù\\x14n\\x1cú\\x0eÔ£\\x1dO_J¢É\\x17¥98é\\x93ô¦\\x02M+\\x12±\\x93ßµ\\x02>\\x97ý\\x81ü.o|k\\xadø¾xÃC¦Ú\\x8b;w#þZÈrÄ}\\x11qÿ\\x00\\x03¯³\\x80ÆkÊ?dÿ\\x00\\t§\\x85>\\nèá¢Ùwª/ö\\x8dÁ8É2r\\x9f\\x86Í\\x95êõ\"aE\\x14P ¯ÏïÛ\\x9aÌ[ü|\\x9aP6\\x8b\\x9d:ÞLú\\x90\\nÿ\\x00Jý\\x01¯\\x86¿à\\xa0öþWÅM\\näu\\x9bJÁü$aM\\r\\x1f9\\xa0Á«(I\\x00UMÇ®9«AKD$\\x8cý}¨,\\x9a0\\x08Æy«:d\\rq¬XÛ ,òÎ\\x88£Ô\\x96\\x18ª\\x912ËÆv¸é]7ÂÆ\\x8d~+xEîP4i\\xadZ\\x19\\x14ô+ç.\\x7fLÓ\\x11ú|\\x8a¨\\x8a\\x8a0ª0\\x07µ-\\x14T\\x90\\x14QE\\x00\\x14QE\\x00\\x14QE\\x00\\x14QE\\x00\\x14QE\\x00\\x14QE\\x00\\x14QE\\x00\\x14QE\\x00\\x14QE\\x00\\x14QE\\x00\\x14QE\\x00\\x14QE\\x00\\x14QE\\x00!ê9¯Ï_Û\\x13Åéâß\\x8ewÖ¶rùÖZ\\x0cCN\\x8c«eLªwL\\x7f\\x07%>©_s|SñD~\\x0bøs¯x¦B\\x9b´ë)%\\x85_î¼¸Äj\\x7fÞr£ñ¯Ë\\x98\\x0c®\\x8d,ÎÒM+\\x17\\x95Üå\\x9d\\x89É$÷$ÓCB\\x9c\\x03\\x8e¬z{SÂ\\x81Ër}¨\\n£¡É§\\x85=r)\\x94\\'9\\x195\\xadàí\\x12O\\x13xÓBðälPêz\\x84\\x16¥ÂîØ\\x1dÂ\\x96Ç\\xa0\\x04\\x9fÂ²\\x86sÀ¯pý\\x88ô\\x03«ürMU\\x94ù:-\\x8c×\\x19ÆAw\\x1eR\\x83øHçþ\\x03H\\x0f¼-¡\\x86Ú\\x08í\\xadãX¢\\x89\\x02F\\x8a0\\x15@À\\x00z\\x01RQE\"\\x02\\x8a(\\xa0\\x02¾\\'ÿ\\x00\\x82\\x89FG\\x8eü-(þ-6Eü¤\\'ú×Û\\x15ñ§ü\\x14Q\\x17þ\\x12\\x0f\\x08¹ûßf\\x99\\x7fñáM\\r\\x1f-\\x000*KiM³\\x90Fè_ï{ThJñÕjtUa\\x8ceOZe\\x12M\\x10\\x0cJ\\x1c÷R;Öß\\x81&Uñ×\\x87%\\x91¶\\x84Ôí÷\\x9fAæ\\x0ek\\x12Ø\\x98Ï\\x91\\'#ø\\rX\\x89\\x8c\\x17ö\\x97(v<S#~G4\\x01ú»ECap·v6÷i÷&\\x89d_£\\x0cÿ\\x00Z\\x9a¤\\x80¢\\x8a(\\x00¢\\x8a(\\x00¢\\x8a(\\x00¢\\x8a(\\x00¢\\x8a(\\x00¢\\x8a(\\x00¢\\x8a(\\x00¢\\x8a(\\x00¢\\x8a(\\x00¢\\x8a(\\x00¢\\x8a(\\x00¢\\x8a(\\x00¢\\x8a(\\x03ç\\x1fÛïÄGNø[§x~)\\x19_XÔ\\x17ÌÚØÌQ\\rÄ\\x1fø\\x11CøWÄ«Â\\x01í_Fÿ\\x00Á@u\\x83uñ\\'@Ñ\\x14\\x9d¶:q\\x99\\x86x-#\\x9fè\\x95ó\\xa0à\\x01\\x8f¥Qht`\\x0e¤\\nvÑ×4\\x8bøS²1Ò\\x90\\tÓ\\'Ó\\x9aû\\x0fþ\\tû¢y\\x1e\\x13ñ\\x17\\x88]NûËÄ¶C\\x8e«\\x1a\\x92\\x7fW¯\\x8eäm¨Oµ~\\x85þÉ\\x1a8Ñþ\\x02ø}v\\x95{Å\\x92íÁ\\x1cåÜãô\\x02\\x86\\'±ë\\x14QE\"B\\x8a(\\xa0\\x02¾-ÿ\\x00\\x82\\x89K\\x9f\\x18øJß8Å\\x8c¯ùÉ\\x8fé_iWÃ\\x7fðPk¡7ÅM\\x06Ô\\x1fõ\\x1a_#ýé\\x18ÓCGÎªNy\\x19©á1\\x13\\x82Y\\x0fÒ¡éÍM\\x11ÿ\\x008¦Ye¢\\x12/Þ\\x07ÐÓ$fØ¡\\x87Ì§\\xad=\\x00ë\\x8c\\x1alùeU\\x1dÈ\\x14\\x08ýGð#\\x99<\\x11\\xa0Èz¾\\x9bnß\\x9cK[5\\x93à¸ü\\x9f\\x07h\\x90ã\\x1b4ø\\x17ò\\x8dEkT\\x90\\x14QE\\x00\\x14QE\\x00\\x14QE\\x00\\x14QE\\x00\\x14QE\\x00\\x14QE\\x00\\x14QE\\x00\\x14QE\\x00\\x14QE\\x00\\x14QE\\x00\\x14QE\\x00\\x14QE\\x00\\x14QE\\x00~tþ×Z\\x91Ôÿ\\x00h\\x8f\\x11\\rûÒÌCj¤t\\x1bbRGàI¯.^@®\\x9bã%ÊÝ|eñ¤êÅÁÖîÀ\\'ÚV\\x1fÒ¹\\x81Ö\\x9b-lJ(\\'4Ü\\x9cR\\x8e½(\\x00\\x94e\\x02\\x8eK\\x1c\\nýIð\\x16\\x98Ú/\\x81ô-!Ô,\\x96zt\\x108\\x1fÞXÔ7ê\\r~hü?Ò\\x93^ø\\x85á\\xad\\x0e\\\\ù7ú\\xadµ´\\x98\\x1c\\x84yUXþ\\nIü+õ&\\x86K\\n(¢\\x90\\x82\\x8a(\\xa0\\x02¿??nK\\x9f?ö\\x81¸\\x886E¾\\x9dn\\x98ü\\x0b\\x7fZý\\x03¯ÍïÚÖå®\\x7fhÏ\\x13ó\\x91\\x0bÃ\\x10ü\"Jhhó>¼T±\\x13\\x9cT9Ãb¥\\x8f®i\\x96Z^¹õ©-ã3_Ú@½d\\x99\\x14~$TIÚº/\\x86:\\x7fö·Å\\x1f\\ni\\x85w-Î¯m\\x1bqü&UÏé\\x9a\\x04~\\x9cÚB¶Ö\\x90Û¯Ý\\x8a5Aô\\x03\\x15-\\x14T\\x90\\x14QE\\x00\\x14QE\\x00\\x14QE\\x00\\x14QE\\x00\\x14QE\\x00\\x14QE\\x00\\x14QE\\x00\\x14QE\\x00\\x14QE\\x00\\x14QE\\x00\\x14QE\\x00\\x14QE\\x00\\x14QXÞ;Õäðÿ\\x00\\x81õíz$\\x0f&\\x9b¦Ü^*\\x9fâ1ÄÎ\\x07þ;@\\x1f\\x96W×³jzµþ§rûç»¹\\x92y[ÕÝ\\x8b\\x13ù\\x9a@;Õ{%\"\\x1eNIäÕ\\x80\\rQcÔ\\x0fZ_âëH=iÜf\\x80={ö9Ñ_Yøÿ\\x00¤O±\\x1a\\x1d.Þ{ÙCz\\x041®=ÃÈ§ð¯ÐJù#þ\\tõ¡\\x16¸ñG\\x89ä\\x8d\\x0e\\x04V0¹ûÃ«¸\\x1eßr¾·¤È\\n(¢\\x90\\x05\\x14Q@\\x05~gþÒ¬_ö\\x83ñ\\x99\\'¥ù^\\x7fÜQ_¦\\x15ù©ûNÆ\\x13ö\\x82ñ\\x81\\x1dïr~¥\\x14ÓCG\\x9dã-\\x91SGÁæ¢ÁÎjTíAE\\x94ê+×ÿ\\x00cÍ\\x18êÿ\\x00\\x1fô\\x89J\\x86\\x8bL·\\x9eö@}\\x90Æ§ðy\\x14þ\\x15ä\\x11\\x8cõ¯§ÿ\\x00à\\x9fzp\\x93Ä^,ÕÚ<\\x98\\xad\\xa0¶GÇMÌÌÃÿ\\x00\\x1cZbgØ4QEI!E\\x14P\\x01E\\x14P\\x01E\\x14P\\x01E\\x14P\\x01E\\x14P\\x01E\\x14P\\x01E\\x14P\\x01E\\x14P\\x01E\\x14P\\x01E\\x14P\\x01E\\x14P\\x01E\\x14P\\x01^}ûHjÑè\\x9f\\x02<e{\"o\\x0f¥Kj\\x07¼ãÉ\\x07ð2\\x03^\\x83^-ûkjpiÿ\\x00³æ³\\x04ÙÝ¨Ook\\x17ûÞjÉü£4\\x01ùùj\\x08\\x81Týà?:\\x9cg\\x1cÔPåcCÜ\\x0ejn¸`:Õ\\x16\\x00\\x8cS\\x94d\\x16<\\x0cS\\x95\\x062Ý*;\\x96ýÑ\\x0bÞ\\x90\\x1fyþÄzjXü\\x0e¶º\\x11l{ëÙæfÇß\\x00\\x85\\x07éò×¸×\\x17ð3G:\\x07Áÿ\\x00\\nél0ñé±;\\x83Ù\\x9coaù±®Ò\\x91\\x01E\\x14P\\x01E\\x14P\\x01_\\x9c?µ\\x14\\x05?h¿\\x17ÀÝ%\\x96)Wñ\\x85?\\xad~\\x8fWçÇí»ký\\x9dûDÜ\\\\\\xa0À»±¶\\x94ýq·ù¨¦\\x86\\x8f\\x1a\\x00\\x86ÚG#¨©#ëÒ¤½\\\\H&\\x03åaM\\x8f\\x19úÐQ:ð¤ú\\nûGö\\x05Óe¶øk\\xadjn¸\\x8eûT>[w!\\x11Tþ¹¯\\x8b\\x89Û\\x19>Õú\\tû!igLø\\x07\\xa0\\x96`Mß\\x9buôÞçü(bg\\xadÑE\\x14\\x89\\n(¢\\x80\\n(¢\\x80\\n(¢\\x80\\n(¢\\x80\\n(¢\\x80\\n(¢\\x80\\n(¢\\x80\\n(¢\\x80\\n(¢\\x80\\n(¢\\x80\\n(¢\\x80\\n(¢\\x80\\x03_,ÿ\\x00ÁCï¦\\x8fÂ¾\\x14Ó\\x95ÛÉ\\x9eúieAÐ\\x95@\\x14\\x9f¦æ¯©\\x8d|¯ÿ\\x00\\x05\\r\\x96\\x15ðÿ\\x00\\x83ã\\x91Af¾\\x9f\\x07Ðl\\\\ÿ\\x00Jkp>@^\\x08*r\\x0f9Å<<\\x80à\\x00sÜScÜ\\x87`ÁôÍJ]\\x80ÁUÝØS*ã]\\x9b!IÉ\\xadO\\nèÒkÞ,Ñ4\\x08\\x88Yµ-B\\x0bP{.ù\\x15sødÖXýÙÉ9víé^Ïû\\x1ax\\x7fûkãµ\\x8dÜËº-\"ÖkÖÈÈ-·ËAìC8oø\\r ¹÷Ò\"Ç\\x1aÆ\\x8a\\x15T\\x00\\xa0t\\x00v§QE\"B\\x8a(\\xa0\\x02\\x8a(\\xa0\\x02¾\\x13ý¾ÚÚ\\x7f\\x8bö6Ñ\\x0fô\\x98ô\\x94g?ð6#ô¯»+óÇöÖÔ\\x0cß´mû\\x80vÚZ[ÀG¨Ù\\x9fæÔÐÑäö\\x0e.lL/þ±8¥\\x8b\\x86Á\\x1c\\x8a¯0û-Èº\\x8c\\x13\\x0b\\x8f\\x9c\\x0fCV\\x8b)má\\x97æ\\x19ÏcL¡òdÇ´pXà~5úoð\\x8fI]\\x0fá\\x7f\\x86´µ\\x04\\x184Ø7\\x83Ù\\x8a\\x06oÔ\\x9aüÎ´\\x89®/¬à\\x8cni§HÀ\\x1dÉ`+õVÎ\\x04µ³\\x86Ö<ì\\x865\\x8dsè\\x06\\x05&K%¢\\x8a)\\x08(¢\\x8a\\x00(¢\\x8a\\x00(¢\\x8a\\x00(¢\\x8a\\x00(¢\\x8a\\x00(¢\\x8a\\x00(¢\\x8a\\x00(¢\\x8a\\x00(¢\\x8a\\x00(¢\\x8a\\x00(¢\\x8a\\x00(¢\\x8a\\x00\\r|¡ÿ\\x00\\x05\\x14\\x8d\\x1bEði<¿Úî\\x06=¶%}^kä\\x1fø(\\x8dçúW\\x83´üô\\x17\\x13\\x0füui\\xadÀù[c\\x8e\\x1b\\'ß½\\n²\\x1fõn\\xa0û\\x8a\\x90Âç\\x95s\\x9fÐÓ¢\\'v\\x1ca\\x85\\x08\\xa0\\x86\\x1f-·Èá\\x9e¾ºÿ\\x00\\x82\\x7fèM\\x1e\\x95âo\\x13H\\x18}¢hìâÊðU\\x01f ýX~Uò<¤*\\x16æ¿C¿e]\\x11t/\\x81^\\x1d\\x8bÊhæ¼\\x89¯&\\rÝ¤bAÿ\\x00¾vÐÁ\\x9e£E\\x14R$(¢\\x8a\\x00(¢\\x8a\\x00+óoö¨\\x0fqûAxÃÌ<¥Äj¾ÀD\\x98þ\\x95úI_\\x9c¿µDd~ÐÞ-\\x03\\x1f4\\x91\\x1fü\\x83\\x1d44y}\\x83\\x16\\x06ÚL\\x12>è=\\x08©mãky\\x8d»\\x7f«`]3ÎßQPH¬¥eQó!è*ô¨eòäèAÜ\\x87\\x1d=©\\x94z7ì×á£âÏ\\x8e>\\x1c°ØZÖÂ\\x7fí\\x1b£\\x8c\\x80\\x90áÔ\\x11è\\\\\"ÿ\\x00À«ôc½|³ÿ\\x00\\x04ýÑm\\x06\\x8dâo\\x114\\'íÏs\\x1d\\x90\\x90ö\\x8c(r\\x07Õ\\x9b\\x9f\\xa0¯©©2XQE\\x14\\x84\\x14QE\\x00\\x14QE\\x00\\x14QE\\x00\\x14QE\\x00\\x14QE\\x00\\x14QE\\x00\\x14QE\\x00\\x14QE\\x00\\x14QE\\x00\\x14QE\\x00\\x14QE\\x00\\x14QE\\x00\\x06¾(ÿ\\x00\\x82\\x83\\\\oø\\x91á\\x9bV9DÒÝ¶ã¡2\\x1e\\x7fJû^¿:\\x7fjÿ\\x00\\x15ÿ\\x00Â]ñßZh\\x0b\\x1bM\\x19\\x86\\x99\\x0e{´Y\\x12\\x1fûø\\\\}\\x00¦\\x86\\x8f4\\x8c\\x84ùw\\x12½\\x85HØ<\\x83\\x83PÆrØïïS\\x00;\\x8cÒE\\x0c\\x91YÂÆ\\x14³3\\x05\\x00wç¥~§xSN:G\\x85ô\\x9d%±\\x9b+(mÎ:|\\x88\\x17úWæ\\x7fÃå²\\x7f\\x89\\x1e\\x15MH\\x81dúÍ¢ÜdñåùË»ôÍ~¡Sd°¢\\x8a)\\x08(¢\\x8a\\x00(¢\\x8a\\x00+ó£ö®toÚ/Å\\x01\\x0epa\\r\\x83ßÉJý\\x15wXÑä\\x91\\x82¢\\x0c±<\\x00\\x07S_\\x96\\x9f\\x10<F\\x9e1ø\\x97â/\\x14Â\\x8c Ôu\\t&\\x807Q\\x11lF\\x0f¾Ð¹¦\\x8a\\x89\\x93×¥M\\x0eDG=)\\x80\\x01O\\x93\\x1ff \\x1e£\\x14!\\x9fvþÄz|\\x96\\x7f\\x02ín%\\x80Æ÷·×\\x13\\x86=d]ÛTÿ\\x00ã¸ü+Ü+Ïÿ\\x00g+I¬~\\x07xJÞxü¹\\x05\\x82¾ßfbÃô\"½\\x02\\x91\\x01E\\x14P\\x01E\\x14P\\x01E\\x14P\\x01E\\x14P\\x01E\\x14P\\x01E\\x14P\\x01E\\x14P\\x01E\\x14P\\x01E\\x14P\\x01E\\x14P\\x01E\\x14P\\x01E\\x14P\\x01E\\x14P\\x00N:×ççÇ\\x8f\\x83^,Ò~,x\\x8aëK\\x8d5[=Bî]A\\x19\\x1c$\\x88&bå\\n\\x93ÎÒÄduÆx¯Ð3^Iñ÷L\\x92)´ÍvÜ\\x907}\\x9al{ò§ù\\x8aÎ¬\\x9c`Ú6ÃÆ3¨\\x94\\x8f\\x84\\x7fá\\x0eñ\\x8cx\\x90øsT\\x0bê-É\\x14×ðï\\x89\\x90\\x8cè:\\x98$ã\\x9bf\\x1fÒ¾¼Ó§a\\x1a®väóW<Gs)Óã*wl \\x1aä\\x8e2OtzO/\\x8fvx§ìËð5~ êïâ\\x0f\\x11ê\\x82×OÑoDsé\\x91d]<Ê\\x03¨rF\\x11\\x08 äd\\x9eG\\x1dkîÞµó\\x9fìù\\x1cº7Æmqc\\x91þÃâ==nLdð·0\\x10¬\\x7f\\x14u¯£;×teÌ®yu`á7\\x11h¢\\x8afaE\\x14P\\x01E\\x14PÀáþ8xÒ/\\x02|<¾ÕBÅ6¡rËc¦[Èx\\x9aêS²5?ì\\x82w7û*ká;¯\\x83Zù{\\x8b\\x8f\\x0c<Z\\x85ª1+\\x13¸\\x8eaÇ \\x03\\x85>Ü×Ð\\x7f´ÍËx\\x87âÎ\\x97¥ÌÛ´ß\\x0eAçìì×r\\x8c\\x86<ÿ\\x00\\x02\\x00G»RøVÕ\\xad\"\\x8fÌ8w;\\x8e=ë\\x9e½gNÜ§¡\\x84Ã*\\x91nGÊz§\\x86|O¤H\"Ôô\\x1dFÝÏ8\\x92Ý¹\\x1fÖ³â³Ôof\\x8aÆÆÂâ{©ÜG\\x141ÄÅÝ\\x89ÀP=sÚ¾ä»¼\\x95lY{\\x1e9ì+[áF\\x81\\x1e§¯\\x7fl=¼ii§·îÈ@\\x0c\\x93\\x1f\\x7föz\\x9fr*iâ\\\\ß-\\x87[\\t\\x1apræ=\\x1báõ¥Î\\x9fà/\\x0fX^Äaº¶Òí¡\\x9a3Õ\\x1dbPÀý\\x08\"·)\\x07Þ¥®£Î\\n(¢\\x80\\n(¢\\x80\\n(¢\\x80\\n(¢\\x80\\n(¢\\x80\\n(¢\\x80\\n(¢\\x80\\n(¢\\x80\\n(¢\\x80\\n(¢\\x80\\n(¢\\x80\\n(¢\\x80\\n(¢\\x80\\x03^SûEÞ<ZN\\x95h\\x8dÄ³³0ú\\x0c\\x03ú\\x9aõc^\\x0fûE\\\\ÌÞ9Ò,A>Jé²LGû^f\\x05e[àføeûÔaiR¤±\\x88\\x98\\x8c\\x93\\x90k^á\\x11íä\\x8aO\\x98\\x15\"¹\\r.ll1õ\\r\\x9ekªiXÂ²\\x0eI\\x1d=ëÉ\\x89ô-\\x15~\\x1aÌmþ+øf\\' 4¿m\\x8c{\\x8f$7þÊ?*ú6¾VÐ\\x9eæ\\x1fÚ\\x17áìÂ\\\\[K-ìo\\x1e?\\x88Ú¾\\x0fé\\x8aú¦½Z\\x0eðG\\x83\\x8dVªÂ\\x8a(\\xad\\x8eP¢\\x8a(\\x00£½\\x15[T¼\\x87NÓ.µ\\x0b\\x86\\x0b\\r´/4\\x84öUROè(\\x03ä?íXüIñ\\x1fÅ\\x9a¾s\\x12ë71\\x06<å!a\\x1aÿ\\x00è\\'\\x1fZî¼<\\x0c²)q\\x8c{W\\x90ü#\\x82X<7\\x04×97\\x17®nî2z´\\x84¹\\x1f¨¯fðÛF±³9Á\\x0b\\x91\\x9fZò«O\\x9alú*\\x11ä¤\\x90íi\\x9b-åð\\x00é\\x8aîþ\\x03Þ,ú\\x1e£j¼}\\x9eèdzn@kÎ¯¥É\\x92F`\\x0b\\x82kªý\\x9a¤\\x96Fñi\\x90aWP\\x89Séä\\xadk\\x85øÎ\\\\~\\x94\\x92ó=\\x84t¢\\x81Ez\\x07\\x8e\\x14QE\\x00\\x14QE\\x00\\x14QE\\x00\\x14QE\\x00\\x14QE\\x00\\x14QE\\x00\\x14QE\\x00\\x14QE\\x00\\x14QE\\x00\\x14QE\\x00\\x14QE\\x00\\x14QE\\x00\\x19\\x14U\\x1bÉ\\x9a\\x11\\x9fJ¦\\x9aÌJØr\\x05\\x00mW\\x84~Ð¨O\\x8e´¶Æ\\x07öc\\x0cÿ\\x00ÛZö»}FÞ\\\\bEÉ÷¯\\x19ý¢\\x99\\x7fá+ÑT2î{9\\x08\\x19ä\\x80ã5\\x95eî3|7ñQç\\x10\\x11\\x04ØÎA`k¤²¹2Y\\x94ä2\\x9e=9®J_4K\\x92¤\\x0f½×µoèòÆ@Áê2+ÇæÔú\\x8e]\\r]\\x0eÁgñ×\\x85®ÿ\\x00\\x8eËRGR\\x7fÚV\\x8c\\x8fÉÏé_GWÍp]2L³Dâ9aq\"\\x1e¤2\\x90Aü\\x0f5ôe\\x85Ò^Ø[ÝÆ>YâY\\x00Îq\\x91\\x9aôð²¼Z<,Ê\\x16\\x92\\x97rÅFï¶¤¨ç\\\\¯\\x1dk¨óDY\\x90ñR\\x02\\x0fJçµ\\x0b§¶rOJm¦½\\x16B³b\\x80:Jâ>;Ý5¯Â/\\x12*mÝwfÖ\\\\¶\\x0e&\"&#Ü+\\x92>\\x95ÕÚßÁ60àgÞ¼[ö\\x94ñ=¼÷ö\\x1e\\x11\\x82U\\x7f%\\x85Ýê«r§\\x04\"\\x9fÀ\\x96üª*K\\x96-\\x9bP§í*(\\x9egá{P©\\x14A\\t8\\x19Àè\\x05vÅÕ 8ãéX:\\x1c,ª/\\x08òò?\\x0czU÷¸yË\\x08\\x87Ê\\x05x²\\x97Sê\\x146D×Û¤V|p8úW{û5l\\x9bAñ\\x05ôl\\x1d$Ö$\\x85XwòÑ\\x14þ¹¯=\\x8aG6²\\x87\\x078Éæ½Gölµ\\x86Ûá-\\x8c°\\x80>Õwwpäwf¸\\x90\\x13úWv\\x0f¹åfzE#Ò(\\xa0Q]ç\\x8c\\x14QE\\x00\\x14QE\\x00\\x14QE\\x00\\x14QE\\x00\\x14QE\\x00\\x14QE\\x00\\x14QE\\x00\\x14QE\\x00\\x14QE\\x00\\x14QE\\x00\\x14QE\\x00\\x14QE\\x00W¼\\x84K\\x11\\x18¯?ñ]µÕ±i\\x13 vÅzEgê¶\\x11ÝÂU\\x94\\x1cûP\\x07\\x86OâÛ\\x9d:b$r\\x00=Íx\\x7fíSâ\\x9dCXñG\\x87µ\\x0b\\x1bém\\x9eÒÍÒ\\x19cl|Å²G½{ïÄ¯\\x06\\\\<2Ik\\x1bg\\x04ð+æ_\\x88P¬\\x96ÇKÔH·º\\x8aLÂ\\\\uö¦\\x97qÅ´î\\x8c}\\x1fã\\x16¹h\\x12\\x1dkM¶¿\\x086ù¨|§aïÁ\\x1f¥o¯Æë\\x1btg\\x8bD¼w\\x03\\x88Ìª£?ïsÇá^_¨iÒ\\x06ÚÊA\\x03½d\\x0c&Rt#\\x1eµÏ,-9;Øï\\x8e>´U¹\\x8eëÄ¿\\x1a|ezL\\x96\\x11Ùi\\x90\\x9e\\x14G\\x1eöüY»ý\\x00¯±ÿ\\x00b\\x8f\\x14j\\x9e(ø#\\x04ÚÍËÜÞZ^Í\\x01\\x91ÀÉ\\\\\\x86^\\x9fï\\x1aü÷µ·\\x97R¾\\x8eÚÚ&Ã¾Ñß\\x1eçÚ¿D¿d]\\x194\\x1f\\x84Öö(\\x872Ló3\\x1eùÀ\\x1fÊ¶\\x8d8Áh\\x8eZµgSâw=\\x96\\x8a(¦bfk6\\x0bq\\x03\\x15\\x1câ¼³ÄÉu¦Èì\\tÀ¯f=+\\x07ÄÞ\\x1f\\x83Uµ\\x916\\x8dÄP\\x07\\x8céÞ?þÏ»T\\x9aCÁîkä_\\x89Úî¹?Å-\\x7fXmJîÞââþF2+\\x9c\\x18ú \\x03è\\x00¯¢~1x\\x07YÓÖK»\\x15\\x90\\x85$ð?\\x1aùóÆpÁ¯}\\x9eH\\x9c-å·Éu\\tùXóÔz\\x91NÉèÊ\\x8biÝ\\x16´_\\x8c>2Òà\\x16·\\x1feÔ£\\x0b\\x85y¢Û&>ªF\\x7f\\x1aºÿ\\x00\\x1dµè¢òâÐìW\\x8e¬\\\\\\x93ù\\x1aó\\x9b\\x89f\\x8272£Iä\\x9d\\x9böþY÷â³ÂÝÜ\\x92þQ\\x00÷n\\x00ük\\x07\\x87¤Þ¨ìXÊñVæ:Ï\\x15|Vñ¦µhÖ\\x9fÚ\\x0bg\\x0c\\x83nËuÚÌ\\x0f\\x04n9l~5ú\\x07û1XO¦|\\x04ð\\x85\\x9dÒ2L\\x96;\\x9c7_\\x99Ù¿\\xad|9ð+á\\x1f\\x88<\\x7fâ\\x9bagdïco2½Õì\\x88E¼*\\x0eq»øØã\\x85\\x1cý\\x06Hý$°µ\\x86ÆÆÞÆÝvÃo\\x12Å\\x18ôU\\x00\\x0fÐV±\\x84`\\xad\\x15c\\x96¥IÔÖNäôQE30¢\\x8a(\\x00¢\\x8a(\\x00¢\\x8a(\\x00¢\\x8a(\\x00¢\\x8a(\\x00¢\\x8a(\\x00¢\\x8a(\\x00¢\\x8a(\\x00¢\\x8a(\\x00¢\\x8a(\\x00¢\\x8a(\\x00¢\\x8a(\\x00¢\\x8a(\\x01\\x92Å\\x14ªVHÕÔõ\\x04W\\x94|[ø\\x1dáï\\x1c[´\\x90¿ØoG+ \\x1cf½j\\x8a\\x00øKÆ\\x1f\\x01¼yáÍÌºqÕíS£[È\\x15\\x88íÎ\\x18~\\x99÷®\\n×À3ßù\\x90^Ùø\\x96Þé¾S\\x1ahhè\\x0f³\\x1b\\x81Çlà}+ô¨úTBÚÜ6á\\x04[½v\\x0cÐ>f|ið\\x9fö~ÔµK«{\\x8bë\\x19ôû% ÈÓ\\x90»Æsò\\xa0\\x1c~%«ì\\x0f\\x0fé6º&\\x93\\x06\\x9df\\x81b\\x89B\\x8e=\\x05hQ@\\x9e¡E\\x14P\\x01E\\x14P\\x05=ON´ÔmÚ\\x0b\\x98\\x95\\x83\\x0cg\\x15ó§Å\\x8fÙ©5\\x9bù5O\\x0cÞ}\\x86ð\\x92CFv\\x92\\x7f\\x95}/E\\x00|_aû7üI\\x95ü\\x9böðä\\x91\\x123#X\\xa0c\\x8eä\\x822~¹¯JðwìÙgk$3ø\\x82úÊG\\x8cîÙgh\\x89ø\\x13\\x81\\x91_CQJÅs2\\x86\\x83¤iú\\x16\\x97\\x16\\x99¥Û%½¬CåE\\x18üjý\\x14S$(¢\\x8a\\x00(¢\\x8a\\x00(¢\\x8a\\x00(¢\\x8a\\x00(¢\\x8a\\x00(\\xa0Ð:P\\x01E\\x14P\\x01E\\x14P\\x01E\\x14P\\x07ÿÙ', 'c': array([False, False, False,  True, False, False]), 'imUrl': 'http://ecx.images-amazon.com/images/I/31bmhqq5IXL._SX342_.jpg', 'categories': [['Clothing, Shoes & Jewelry', 'Women', 'Clothing', 'Jeans'], ['Clothing, Shoes & Jewelry', 'Women', 'Petite', 'Jeans']], 'asin': 'B008986OXM'}\n"
     ]
    }
   ],
   "source": [
    "# load image\n",
    "\n",
    "dataset_name = 'AmazonFashion6ImgPartitioned.npy'\n",
    "dataset_dir = '../dataset/amazon/'\n",
    "dataset = np.load(dataset_dir + dataset_name, encoding = 'latin1')\n",
    "\n",
    "[user_train, user_validation, user_test, Item, usernum, itemnum] = dataset\n",
    "\n",
    "\n",
    "def load_image(file_path):\n",
    "    # image file to numpy\n",
    "    img = image.load_img(f_path, target_size=(w, h))\n",
    "    img = image.img_to_array(img)\n",
    "    return img"
   ]
  },
  {
   "cell_type": "code",
   "execution_count": null,
   "metadata": {
    "collapsed": false
   },
   "outputs": [],
   "source": [
    "# ----------------------metrics---------------------------\n",
    "# auc_roc as the metrics\n",
    "# for details about how to implement auc in keras, see https://github.com/keras-team/keras/issues/3230\n",
    "def auc(y_true, y_pred):\n",
    "    ptas = tf.stack([binary_PTA(y_true,y_pred,k) for k in np.linspace(0, 1, 1000)],axis=0)\n",
    "    pfas = tf.stack([binary_PFA(y_true,y_pred,k) for k in np.linspace(0, 1, 1000)],axis=0)\n",
    "    pfas = tf.concat([tf.ones((1,)) ,pfas],axis=0)\n",
    "    binSizes = -(pfas[1:]-pfas[:-1])\n",
    "    s = ptas*binSizes\n",
    "    return K.sum(s, axis=0)\n",
    "\n",
    "# PFA, prob false alert for binary classifier\n",
    "def binary_PFA(y_true, y_pred, threshold=K.variable(value=0.5)):\n",
    "    y_pred = K.cast(y_pred >= threshold, 'float32')\n",
    "    # N = total number of negative labels\n",
    "    N = K.sum(1 - y_true)\n",
    "    # FP = total number of false alerts, alerts from the negative class labels\n",
    "    FP = K.sum(y_pred - y_pred * y_true)\n",
    "    return FP/N\n",
    "\n",
    "# P_TA prob true alerts for binary classifier\n",
    "def binary_PTA(y_true, y_pred, threshold=K.variable(value=0.5)):\n",
    "    y_pred = K.cast(y_pred >= threshold, 'float32')\n",
    "    # P = total number of positive labels\n",
    "    P = K.sum(y_true)\n",
    "    # TP = total number of correct alerts, alerts from the positive class labels\n",
    "    TP = K.sum(y_pred * y_true)\n",
    "    return TP/P\n",
    "\n",
    "\n",
    "# ----------------------loss function---------------------------\n",
    "# not sure which loss function is better\n",
    "def contrastive_loss(y_true, y_pred):\n",
    "    '''Contrastive loss from Hadsell-et-al.'06\n",
    "    http://yann.lecun.com/exdb/publis/pdf/hadsell-chopra-lecun-06.pdf\n",
    "    '''\n",
    "    margin = 1\n",
    "    sqaure_pred = K.square(y_pred)\n",
    "    margin_square = K.square(K.maximum(margin - y_pred, 0))\n",
    "    return K.mean(y_true * sqaure_pred + (1 - y_true) * margin_square)\n",
    "\n",
    "def entropy_loss(y_true, y_pred):\n",
    "    ''' from Comparative Deep Learning of Hybrid Representations for Image Recommendations\n",
    "    https://arxiv.org/pdf/1604.01252.pdf\n",
    "    use crose entropy as the loss\n",
    "    '''\n",
    "    margin = 1\n",
    "    sqaure_pred = -K.log(y_pred)\n",
    "    margin_square = -K.log(K.maximum(margin - y_pred, 0))\n",
    "    return K.mean(y_true * sqaure_pred + (1 - y_true) * margin_square)\n",
    "\n",
    "# ----------------------optimizer---------------------------\n",
    "# optimizer: rms or adam?\n",
    "rms = keras.optimizers.Adagrad(lr=0.01, epsilon=None, decay=0.0)\n",
    "adam = keras.optimizers.Adam(lr=0.001, beta_1=0.9, beta_2=0.999, epsilon=None, decay=0.0, amsgrad=False)\n",
    "\n",
    "\n"
   ]
  },
  {
   "cell_type": "code",
   "execution_count": null,
   "metadata": {
    "collapsed": true
   },
   "outputs": [],
   "source": [
    "batch_size = 128\n",
    "epochs = 30\n",
    "# first: freeze all convolutional layers, only train fc layers (which were randomly initialized)\n",
    "for layer in base_vgg.layers[:-4]:\n",
    "    layer.trainable = False\n",
    "for layer in base_vgg.layers[-4:]:\n",
    "    layer.trainable = True\n",
    "\n",
    "# set trainable layers before model compile\n",
    "model.compile(optimizer=rms, loss=contrastive_loss)\n",
    "# model.fit(x=None, y=None, batch_size=None, epochs=1, verbose=1, callbacks=None, validation_split=0.0, validation_data=None, shuffle=True, class_weight=None, sample_weight=None, initial_epoch=0, steps_per_epoch=None, validation_steps=None)\n",
    "# evaluation_model.evaluate(x=None, y=None, batch_size=None, verbose=1, sample_weight=None, steps=None)\n",
    "\n",
    "# second: train the last conv block\n",
    "for layer in base_vgg.layers[:-10]:\n",
    "    layer.trainable = False\n",
    "for layer in base_vgg.layers[-10:]:\n",
    "    layer.trainable = True\n",
    "\n",
    "# set trainable layers before model compile\n",
    "model.compile(optimizer=rms, loss=contrastive_loss)\n",
    "# model.fit(x=None, y=None, batch_size=None, epochs=1, verbose=1, callbacks=None, validation_split=0.0, validation_data=None, shuffle=True, class_weight=None, sample_weight=None, initial_epoch=0, steps_per_epoch=None, validation_steps=None)\n",
    "# evaluation_model.evaluate(x=None, y=None, batch_size=None, verbose=1, sample_weight=None, steps=None)\n"
   ]
  },
  {
   "cell_type": "code",
   "execution_count": null,
   "metadata": {
    "collapsed": true
   },
   "outputs": [],
   "source": []
  }
 ],
 "metadata": {
  "anaconda-cloud": {},
  "kernelspec": {
   "display_name": "Python [conda root]",
   "language": "python",
   "name": "conda-root-py"
  },
  "language_info": {
   "codemirror_mode": {
    "name": "ipython",
    "version": 3
   },
   "file_extension": ".py",
   "mimetype": "text/x-python",
   "name": "python",
   "nbconvert_exporter": "python",
   "pygments_lexer": "ipython3",
   "version": "3.5.2"
  }
 },
 "nbformat": 4,
 "nbformat_minor": 1
}
